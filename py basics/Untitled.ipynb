{
  "cells": [
    {
      "cell_type": "markdown",
      "id": "ebcbf06d-b813-4e18-99cf-44062c048af7",
      "metadata": {
        "id": "ebcbf06d-b813-4e18-99cf-44062c048af7",
        "tags": []
      },
      "source": [
        "# An intro to other things that can be done\n"
      ]
    },
    {
      "cell_type": "code",
      "execution_count": 1,
      "id": "91ac49eb-de87-47bd-a1fa-405c4c707c27",
      "metadata": {
        "id": "91ac49eb-de87-47bd-a1fa-405c4c707c27"
      },
      "outputs": [
        {
          "name": "stdout",
          "output_type": "stream",
          "text": [
            "4\n"
          ]
        }
      ],
      "source": [
        "print(2+2)"
      ]
    },
    {
      "cell_type": "code",
      "execution_count": 2,
      "id": "0ebc792a",
      "metadata": {},
      "outputs": [],
      "source": [
        "import pandas as pd"
      ]
    }
  ],
  "metadata": {
    "colab": {
      "provenance": []
    },
    "kernelspec": {
      "display_name": "Python 3",
      "language": "python",
      "name": "python3"
    },
    "language_info": {
      "codemirror_mode": {
        "name": "ipython",
        "version": 3
      },
      "file_extension": ".py",
      "mimetype": "text/x-python",
      "name": "python",
      "nbconvert_exporter": "python",
      "pygments_lexer": "ipython3",
      "version": "3.10.8"
    }
  },
  "nbformat": 4,
  "nbformat_minor": 5
}
