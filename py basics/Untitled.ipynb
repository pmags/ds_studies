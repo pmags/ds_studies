{
 "cells": [
  {
   "cell_type": "markdown",
   "id": "ebcbf06d-b813-4e18-99cf-44062c048af7",
   "metadata": {
    "tags": []
   },
   "source": [
    "# dsad\n"
   ]
  },
  {
   "cell_type": "code",
   "execution_count": null,
   "id": "91ac49eb-de87-47bd-a1fa-405c4c707c27",
   "metadata": {},
   "outputs": [],
   "source": []
  }
 ],
 "metadata": {
  "kernelspec": {
   "display_name": "learningenv:Python",
   "language": "python",
   "name": "conda-env-learningenv-py"
  },
  "language_info": {
   "codemirror_mode": {
    "name": "ipython",
    "version": 3
   },
   "file_extension": ".py",
   "mimetype": "text/x-python",
   "name": "python",
   "nbconvert_exporter": "python",
   "pygments_lexer": "ipython3",
   "version": "3.9.16"
  }
 },
 "nbformat": 4,
 "nbformat_minor": 5
}
